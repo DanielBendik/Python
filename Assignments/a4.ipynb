{
 "cells": [
  {
   "cell_type": "markdown",
   "metadata": {},
   "source": [
    "# Assignment 4"
   ]
  },
  {
   "cell_type": "code",
   "execution_count": 131,
   "metadata": {},
   "outputs": [
    {
     "data": {
      "text/plain": [
       "('illinois-climate-monthly.txt', <http.client.HTTPMessage at 0x7fb620783400>)"
      ]
     },
     "execution_count": 131,
     "metadata": {},
     "output_type": "execute_result"
    }
   ],
   "source": [
    "# Do not modify this cell, just run it to download the file\n",
    "\n",
    "from urllib.request import urlretrieve\n",
    "\n",
    "url = \"https://faculty.cs.niu.edu/~smaoyuan/courses/csci503/a4/illinois-climate-monthly.txt\"\n",
    "local_fname = \"illinois-climate-monthly.txt\"\n",
    "urlretrieve(url, local_fname)"
   ]
  },
  {
   "cell_type": "markdown",
   "metadata": {},
   "source": [
    "<h1> Name & Z-ID \n",
    "<h3> Daniel Bendik\n",
    "<h3> z1938845\n",
    "<h3> CSCI 490\n",
    "<h3> Dr. Maoyuan Sun"
   ]
  },
  {
   "cell_type": "markdown",
   "metadata": {},
   "source": [
    "<h1> Read Data"
   ]
  },
  {
   "cell_type": "code",
   "execution_count": 132,
   "metadata": {},
   "outputs": [],
   "source": [
    "data = []\n",
    "\n",
    "with open(\"illinois-climate-monthly.txt\") as file:\n",
    "    header = file.readline().split()  # Put the first line into a list that represents keys\n",
    "    \n",
    "    for line in file:  # for each line in the file\n",
    "        value = line.split()  # create a list of values \n",
    "        data.append(dict(zip(header, value)))  # create a dictionary of these two lists zipped together\n",
    "\n",
    "# Uncomment below to see the data (list of dictionaries)\n",
    "#data"
   ]
  },
  {
   "cell_type": "markdown",
   "metadata": {},
   "source": [
    "<h1> Split Year and Month"
   ]
  },
  {
   "cell_type": "code",
   "execution_count": 133,
   "metadata": {},
   "outputs": [],
   "source": [
    "for block in data:  # For each dictionary in the list,\n",
    "    block[\"Year\"] = block[\"YearMonth\"][0:4]  # add a new key value pair for Year\n",
    "    block[\"Month\"] = block[\"YearMonth\"][4:]  # add a new key value pair for Month\n",
    "\n",
    "# Uncomment below to see the data (list of dictionaries)\n",
    "#data"
   ]
  },
  {
   "cell_type": "markdown",
   "metadata": {},
   "source": [
    "<h1> Compute Yearly Values"
   ]
  },
  {
   "cell_type": "code",
   "execution_count": 134,
   "metadata": {},
   "outputs": [],
   "source": [
    "year_info = []\n",
    "\n",
    "for year in set(d[\"Year\"] for d in data):\n",
    "    current_year = [d for d in data if d['Year'] == year]  # list comprehension for individual years\n",
    "    sum_PCP = sum(float(d['PCP']) for d in current_year)  # sum of the PCP for the current year being processed\n",
    "    avg_TAVG = sum(float(d['TAVG']) for d in current_year) / len(current_year)  # average of TAVG for current year\n",
    "    avg_PDSI = sum(float(d['PDSI']) for d in current_year) / len(current_year)  # average of PDSI for current year\n",
    "    year_info.append({\"Year\": year, \"sum_PCP\": sum_PCP, 'avg_TAVG': avg_TAVG, 'avg_PDSI': avg_PDSI})  # add this year to the list of dictionaries\n",
    "\n",
    "year_info = sorted(year_info, key=lambda x: x['Year'])  # years weren't sorted for some reason\n",
    "\n",
    "# Uncomment below to see each year's info\n",
    "#year_info"
   ]
  },
  {
   "cell_type": "markdown",
   "metadata": {},
   "source": [
    "<h1> Write Output"
   ]
  },
  {
   "cell_type": "code",
   "execution_count": 135,
   "metadata": {},
   "outputs": [],
   "source": [
    "with open(\"illinois-climate-yearly.txt\", \"w\") as file:\n",
    "    file.write(\"Year   sum_PCP  avg_TAVG  avg_PDSI\\n\")\n",
    "    for d in year_info:\n",
    "        intYear = int(d['Year'])\n",
    "        \n",
    "        pdsi_num = d['avg_PDSI']  # obtain value for the average PDSI \n",
    "        pdsi_string = '{:.2f}'.format(pdsi_num)  # float to string with two decimal plces\n",
    "        \n",
    "        if pdsi_string.startswith('-0.'):  # if the number starts with that,\n",
    "            pdsi_string = '-' + pdsi_string[2:]  # slice the string to remove the leading '0' and add a minus sign\n",
    "        elif pdsi_string.startswith('0.'): # if the number starts with '0.',\n",
    "            pdsi_string = pdsi_string[1:]  # just remove the zero\n",
    "        \n",
    "        file.write(f\"{intYear:4d}{d['sum_PCP']:>10.2f}{d['avg_TAVG']:>10.1f}{pdsi_string.rjust(10)}\\n\")  # formatted output"
   ]
  }
 ],
 "metadata": {
  "kernelspec": {
   "display_name": "Python 3.10",
   "language": "python",
   "name": "python3"
  },
  "language_info": {
   "codemirror_mode": {
    "name": "ipython",
    "version": 3
   },
   "file_extension": ".py",
   "mimetype": "text/x-python",
   "name": "python",
   "nbconvert_exporter": "python",
   "pygments_lexer": "ipython3",
   "version": "3.10.5"
  }
 },
 "nbformat": 4,
 "nbformat_minor": 4
}
