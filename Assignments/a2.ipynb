{
 "cells": [
  {
   "cell_type": "markdown",
   "id": "6ee7d745-b112-4068-8bae-2eeb3371557a",
   "metadata": {},
   "source": [
    "<h1> Name & zID"
   ]
  },
  {
   "cell_type": "markdown",
   "id": "b03dd892-cf26-4b6b-8f14-1ac89763fa50",
   "metadata": {},
   "source": [
    "Daniel Bendik <br>\n",
    "z1938845 <br>\n",
    "CSCI 490 <br>\n",
    "Dr. Maoyuan Sun <br>"
   ]
  },
  {
   "cell_type": "markdown",
   "id": "5fe5958c-b294-4b8d-bc13-8a6967288056",
   "metadata": {},
   "source": [
    "<h1> The 7n +/- 1 Function"
   ]
  },
  {
   "cell_type": "code",
   "execution_count": 245,
   "id": "1a9a1d02-e902-4b54-bd19-6c758710287f",
   "metadata": {},
   "outputs": [
    {
     "name": "stdout",
     "output_type": "stream",
     "text": [
      "1\n",
      "2, 1\n",
      "3, 20, 10, 5, 36, 18, 9, 64, 32, 16, 8, 4, 2, 1\n",
      "4, 2, 1\n",
      "5, 36, 18, 9, 64, 32, 16, 8, 4, 2, 1\n",
      "6, 3, 20, 10, 5, 36, 18, 9, 64, 32, 16, 8, 4, 2, 1\n",
      "7, 48, 24, 12, 6, 3, 20, 10, 5, 36, 18, 9, 64, 32, 16, 8, 4, 2, 1\n",
      "8, 4, 2, 1\n",
      "9, 64, 32, 16, 8, 4, 2, 1\n",
      "10, 5, 36, 18, 9, 64, 32, 16, 8, 4, 2, 1\n",
      "11, 76, 38, 19, 132, 66, 33, 232, 116, 58, 29, 204, 102, 51, 356, 178, 89, 624, 312, 156, 78, 39, 272, 136, 68, 34, 17, 120, 60, 30, 15, 104, 52, 26, 13, 92, 46, 23, 160, 80, 40, 20, 10, 5, 36, 18, 9, 64, 32, 16, 8, 4, 2, 1\n",
      "12, 6, 3, 20, 10, 5, 36, 18, 9, 64, 32, 16, 8, 4, 2, 1\n",
      "13, 92, 46, 23, 160, 80, 40, 20, 10, 5, 36, 18, 9, 64, 32, 16, 8, 4, 2, 1\n",
      "14, 7, 48, 24, 12, 6, 3, 20, 10, 5, 36, 18, 9, 64, 32, 16, 8, 4, 2, 1\n",
      "15, 104, 52, 26, 13, 92, 46, 23, 160, 80, 40, 20, 10, 5, 36, 18, 9, 64, 32, 16, 8, 4, 2, 1\n",
      "16, 8, 4, 2, 1\n",
      "17, 120, 60, 30, 15, 104, 52, 26, 13, 92, 46, 23, 160, 80, 40, 20, 10, 5, 36, 18, 9, 64, 32, 16, 8, 4, 2, 1\n",
      "18, 9, 64, 32, 16, 8, 4, 2, 1\n",
      "19, 132, 66, 33, 232, 116, 58, 29, 204, 102, 51, 356, 178, 89, 624, 312, 156, 78, 39, 272, 136, 68, 34, 17, 120, 60, 30, 15, 104, 52, 26, 13, 92, 46, 23, 160, 80, 40, 20, 10, 5, 36, 18, 9, 64, 32, 16, 8, 4, 2, 1\n",
      "20, 10, 5, 36, 18, 9, 64, 32, 16, 8, 4, 2, 1\n"
     ]
    }
   ],
   "source": [
    "def orbit(val):\n",
    "    if (val <= 1):  # error check for accidental input of negative numbers\n",
    "        print(1)\n",
    "        return\n",
    "    print(val, end = \", \")\n",
    "    while (val != 1):\n",
    "        if (val % 4 == 1):\n",
    "            val = 7 * val + 1\n",
    "            print(int(val), end = \", \")            \n",
    "        elif (val % 4 == 3):\n",
    "            val = 7 * val - 1\n",
    "            print(int(val), end = \", \")            \n",
    "        else:\n",
    "            val = val / 2\n",
    "            if (val == 1):\n",
    "                print(1)\n",
    "            else:\n",
    "                print(int(val), end = \", \")\n",
    "\n",
    "    \n",
    "for i in range(1, 21):\n",
    "    orbit(i)"
   ]
  },
  {
   "cell_type": "markdown",
   "id": "17431d52-5453-4b63-aa3a-acf4b5343565",
   "metadata": {},
   "source": [
    "<h1> Steps"
   ]
  },
  {
   "cell_type": "code",
   "execution_count": 246,
   "id": "f6d6bc32-31b8-4436-88bd-73e9a9f15ecd",
   "metadata": {},
   "outputs": [
    {
     "name": "stdout",
     "output_type": "stream",
     "text": [
      "1  ->  0\n",
      "2  ->  1\n",
      "3  ->  13\n",
      "4  ->  2\n",
      "5  ->  10\n",
      "6  ->  14\n",
      "7  ->  18\n",
      "8  ->  3\n",
      "9  ->  7\n",
      "10  ->  11\n",
      "11  ->  53\n",
      "12  ->  15\n",
      "13  ->  19\n",
      "14  ->  19\n",
      "15  ->  23\n",
      "16  ->  4\n",
      "17  ->  27\n",
      "18  ->  8\n",
      "19  ->  50\n",
      "20  ->  12\n"
     ]
    }
   ],
   "source": [
    "def steps(val):\n",
    "    step = 0\n",
    "    if (val <= 1):\n",
    "        return step;\n",
    "    while (val != 1):\n",
    "        if (val % 4 == 1):\n",
    "            val = 7 * val + 1\n",
    "            step += 1\n",
    "        elif (val % 4 == 3):\n",
    "            val = 7 * val - 1\n",
    "            step += 1\n",
    "        else:\n",
    "            val = val / 2\n",
    "            step += 1\n",
    "    return step\n",
    "\n",
    "    \n",
    "for i in range(1, 21):\n",
    "    print(i, \" -> \", steps(i))"
   ]
  },
  {
   "cell_type": "markdown",
   "id": "0c4e9d67-2570-4460-971f-0f4446c4bee9",
   "metadata": {},
   "source": [
    "<h1> Longest Progression"
   ]
  },
  {
   "cell_type": "code",
   "execution_count": 247,
   "id": "eb233335-7387-45e7-ac2a-9a5a917b644f",
   "metadata": {},
   "outputs": [],
   "source": [
    "def progression(value):\n",
    "    stoppingTime = steps(value)\n",
    "    if (value == 0):\n",
    "        maximum = value\n",
    "    while (value >= 1):\n",
    "        temp = steps(value)\n",
    "        if (temp >= stoppingTime):\n",
    "            stoppingTime = temp\n",
    "            maximum = value\n",
    "        value -= 1\n",
    "        \n",
    "    return maximum, stoppingTime"
   ]
  },
  {
   "cell_type": "code",
   "execution_count": 248,
   "id": "197013dc-152c-47d0-9e94-dc0d87b8cabe",
   "metadata": {},
   "outputs": [
    {
     "name": "stdout",
     "output_type": "stream",
     "text": [
      "10  ->  (7, 18)\n",
      "20  ->  (11, 53)\n",
      "30  ->  (21, 73)\n",
      "40  ->  (35, 325)\n",
      "50  ->  (35, 325)\n",
      "60  ->  (35, 325)\n",
      "70  ->  (70, 326)\n",
      "80  ->  (70, 326)\n",
      "90  ->  (70, 326)\n",
      "100  ->  (70, 326)\n"
     ]
    }
   ],
   "source": [
    "for i in range(10, 110, 10):\n",
    "    print(i, \" -> \", progression(i))"
   ]
  }
 ],
 "metadata": {
  "kernelspec": {
   "display_name": "Python 3.10",
   "language": "python",
   "name": "python3"
  },
  "language_info": {
   "codemirror_mode": {
    "name": "ipython",
    "version": 3
   },
   "file_extension": ".py",
   "mimetype": "text/x-python",
   "name": "python",
   "nbconvert_exporter": "python",
   "pygments_lexer": "ipython3",
   "version": "3.10.5"
  }
 },
 "nbformat": 4,
 "nbformat_minor": 5
}
