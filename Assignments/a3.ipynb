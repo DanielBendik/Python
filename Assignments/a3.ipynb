{
 "cells": [
  {
   "cell_type": "markdown",
   "metadata": {},
   "source": [
    "# Assignment 3 "
   ]
  },
  {
   "cell_type": "markdown",
   "metadata": {},
   "source": [
    "<h1> Name & zID"
   ]
  },
  {
   "cell_type": "markdown",
   "metadata": {},
   "source": [
    "Daniel Bendik <br>\n",
    "z1938845 <br>\n",
    "CSCI 490 <br>\n",
    "Dr. Maoyuan Sun <br>"
   ]
  },
  {
   "cell_type": "code",
   "execution_count": 296,
   "metadata": {},
   "outputs": [],
   "source": [
    "# Do not modify this cell, just run it to download and load the dataset\n",
    "\n",
    "import os\n",
    "import json\n",
    "from urllib.request import urlretrieve\n",
    "\n",
    "# download the data if we don't have it locally\n",
    "url = \"https://faculty.cs.niu.edu/~dakoop/cs503-2023sp/a3/pokemon.json\"\n",
    "local_fname = \"pokemon.json\"\n",
    "if not os.path.exists(local_fname):\n",
    "    urlretrieve(url, local_fname)\n",
    "\n",
    "\n",
    "    data = json.load(open(local_fname));"
   ]
  },
  {
   "cell_type": "code",
   "execution_count": 297,
   "metadata": {},
   "outputs": [
    {
     "data": {
      "text/plain": [
       "{'name': 'Bulbasaur',\n",
       " 'generation': 1,\n",
       " 'species': 'Seed Pokémon',\n",
       " 'primary_type': 'Grass',\n",
       " 'hp': 45.0,\n",
       " 'height_m': 0.7,\n",
       " 'weight_kg': 6.9,\n",
       " 'speed': 45.0,\n",
       " 'attack': 49.0,\n",
       " 'defense': 49.0}"
      ]
     },
     "execution_count": 297,
     "metadata": {},
     "output_type": "execute_result"
    }
   ],
   "source": [
    "# Example code\n",
    "\n",
    "# the first dictionary in the data list\n",
    "data[0]"
   ]
  },
  {
   "cell_type": "markdown",
   "metadata": {},
   "source": [
    "<h1> Maximum Hit Points"
   ]
  },
  {
   "cell_type": "code",
   "execution_count": 298,
   "metadata": {},
   "outputs": [
    {
     "name": "stdout",
     "output_type": "stream",
     "text": [
      "Blissey has the maximum hit points at 255.0\n"
     ]
    }
   ],
   "source": [
    "maxHP = data[0][\"hp\"]\n",
    "maxName = data[0][\"name\"]\n",
    "\n",
    "for item in data:\n",
    "    if (item[\"hp\"] > maxHP):\n",
    "        maxName = item[\"name\"]\n",
    "        maxHP = item[\"hp\"]\n",
    "\n",
    "print(maxName, \"has the maximum hit points at\", maxHP)"
   ]
  },
  {
   "cell_type": "markdown",
   "metadata": {},
   "source": [
    "<h1> Generation Count"
   ]
  },
  {
   "cell_type": "code",
   "execution_count": 299,
   "metadata": {},
   "outputs": [
    {
     "data": {
      "text/plain": [
       "{1: 192, 2: 107, 3: 165, 4: 121, 5: 171, 6: 85, 7: 99, 8: 88}"
      ]
     },
     "execution_count": 299,
     "metadata": {},
     "output_type": "execute_result"
    }
   ],
   "source": [
    "generation_counts = {}\n",
    "\n",
    "for pokemon in data:\n",
    "    generation = pokemon.get(\"generation\")\n",
    "    if generation not in generation_counts:\n",
    "        generation_counts[generation] = 1\n",
    "    else:\n",
    "        generation_counts[generation] += 1\n",
    "\n",
    "generation_counts"
   ]
  },
  {
   "cell_type": "markdown",
   "metadata": {},
   "source": [
    "<h1> Mean Weights by Primary Type"
   ]
  },
  {
   "cell_type": "code",
   "execution_count": 304,
   "metadata": {},
   "outputs": [
    {
     "data": {
      "text/plain": [
       "{'Grass': 39.83956043956042,\n",
       " 'Fire': 65.02000000000001,\n",
       " 'Water': 58.225373134328365,\n",
       " 'Bug': 33.95432098765432,\n",
       " 'Normal': 43.49130434782609,\n",
       " 'Dark': 57.58181818181819,\n",
       " 'Poison': 60.176315789473676,\n",
       " 'Electric': 36.070491803278685,\n",
       " 'Ground': 133.38536585365856,\n",
       " 'Ice': 93.18333333333334,\n",
       " 'Fairy': 40.445454545454545,\n",
       " 'Steel': 231.1138888888889,\n",
       " 'Fighting': 79.29210526315791,\n",
       " 'Psychic': 69.93947368421051,\n",
       " 'Rock': 114.48166666666667,\n",
       " 'Ghost': 64.3609756097561,\n",
       " 'Dragon': 125.2875,\n",
       " 'Flying': 41.225}"
      ]
     },
     "execution_count": 304,
     "metadata": {},
     "output_type": "execute_result"
    }
   ],
   "source": [
    "primary_weights = {}\n",
    "\n",
    "for item in data:\n",
    "    weight = item[\"weight_kg\"]\n",
    "    primary_type = item[\"primary_type\"]\n",
    "    \n",
    "    if weight is not None:\n",
    "        if primary_type not in primary_weights:\n",
    "            primary_weights[primary_type] = [weight]\n",
    "        else:\n",
    "            primary_weights[primary_type].append(weight)\n",
    "        \n",
    "for primary_type, weight_kg in primary_weights.items():\n",
    "    mean_weight = sum(weight_kg) / len(weight_kg)\n",
    "    primary_weights[primary_type] = mean_weight\n",
    "    \n",
    "primary_weights"
   ]
  },
  {
   "cell_type": "markdown",
   "metadata": {},
   "source": [
    "<h1> Filter by Hit Points"
   ]
  },
  {
   "cell_type": "code",
   "execution_count": 301,
   "metadata": {},
   "outputs": [],
   "source": [
    "def filter_hp(data, min_hp, max_hp):\n",
    "    pokemonList = []\n",
    "\n",
    "    for i in range(len(data)):\n",
    "        if (data[i][\"hp\"] >= min_hp and data[i][\"hp\"] <= max_hp):\n",
    "            pokemonList.append((data[i][\"hp\"], data[i][\"name\"]))\n",
    "        \n",
    "    return sorted(pokemonList)"
   ]
  },
  {
   "cell_type": "code",
   "execution_count": 302,
   "metadata": {},
   "outputs": [
    {
     "data": {
      "text/plain": [
       "[(20.0, 'Duskull'),\n",
       " (20.0, 'Feebas'),\n",
       " (20.0, 'Magikarp'),\n",
       " (20.0, 'Mime Jr.'),\n",
       " (20.0, 'Pichu'),\n",
       " (20.0, 'Shuckle'),\n",
       " (25.0, 'Abra'),\n",
       " (25.0, 'Blipbug'),\n",
       " (25.0, 'Magnemite'),\n",
       " (25.0, 'Wimpod')]"
      ]
     },
     "execution_count": 302,
     "metadata": {},
     "output_type": "execute_result"
    }
   ],
   "source": [
    "filter_hp(data, 20, 25)"
   ]
  },
  {
   "cell_type": "markdown",
   "metadata": {},
   "source": [
    "<h1> Median Attack & Defense by Generation"
   ]
  },
  {
   "cell_type": "code",
   "execution_count": 312,
   "metadata": {},
   "outputs": [
    {
     "data": {
      "text/plain": [
       "[{'generation': 1, 'attack': 75.0, 'defense': 66.0},\n",
       " {'generation': 2, 'attack': 72.0, 'defense': 70.0},\n",
       " {'generation': 3, 'attack': 75.0, 'defense': 70.0},\n",
       " {'generation': 4, 'attack': 80.0, 'defense': 72.0},\n",
       " {'generation': 5, 'attack': 80.0, 'defense': 70.0},\n",
       " {'generation': 6, 'attack': 70.0, 'defense': 70.0},\n",
       " {'generation': 7, 'attack': 82.0, 'defense': 75.0},\n",
       " {'generation': 8, 'attack': 82.5, 'defense': 69.5}]"
      ]
     },
     "execution_count": 312,
     "metadata": {},
     "output_type": "execute_result"
    }
   ],
   "source": [
    "gen_atk_def = []\n",
    "gen_dict = {}\n",
    "\n",
    "for pokemon in data:\n",
    "    generation = pokemon.get(\"generation\")  # obtain generation value for each pokemon\n",
    "    attack = pokemon.get(\"attack\")\n",
    "    defense = pokemon.get(\"defense\")\n",
    "    \n",
    "    if generation not in gen_dict:                            # if the generation value is not in the dictionary yet,\n",
    "        gen_dict[generation] = {\"attack\": [], \"defense\": []}  # create a new one for that generation\n",
    "    gen_dict[generation][\"attack\"].append(attack)             # append all attack values\n",
    "    gen_dict[generation][\"defense\"].append(defense)           # append all defense values\n",
    "    \n",
    "for generation, values in gen_dict.items():\n",
    "    values[\"attack\"].sort()      # sort the attack values\n",
    "    values[\"defense\"].sort()     # sort the defense values\n",
    "    n = len(values[\"attack\"])    # the number of values is the same for both attack and defense\n",
    "    \n",
    "    if (n % 2 == 0):                                 # if there is an even number of values\n",
    "        median_attack = (values[\"attack\"][n // 2] + values[\"attack\"][n // 2 - 1]) / 2  # take the average of the middle two values\n",
    "    else:                                            # if there is an odd number of values\n",
    "        median_attack = values[\"attack\"][n // 2]     # grab the middle value\n",
    "    \n",
    "    if (n % 2 == 0):                                 # if there is an even number of values\n",
    "        median_defense = (values[\"defense\"][n // 2] + values[\"defense\"][n // 2 - 1]) / 2  # take the average of the middle two values\n",
    "    else:                                            # if there is an odd number of values\n",
    "        median_defense = values[\"defense\"][n // 2]   # grab the middle value\n",
    "    \n",
    "    gen_dict = {\"generation\": generation, \"attack\": median_attack, \"defense\": median_defense}  # dict with final values for the generation\n",
    "    gen_atk_def.append(gen_dict)  # append it to the list\n",
    "\n",
    "gen_atk_def"
   ]
  },
  {
   "cell_type": "code",
   "execution_count": null,
   "metadata": {},
   "outputs": [],
   "source": []
  }
 ],
 "metadata": {
  "kernelspec": {
   "display_name": "Python 3.10",
   "language": "python",
   "name": "python3"
  },
  "language_info": {
   "codemirror_mode": {
    "name": "ipython",
    "version": 3
   },
   "file_extension": ".py",
   "mimetype": "text/x-python",
   "name": "python",
   "nbconvert_exporter": "python",
   "pygments_lexer": "ipython3",
   "version": "3.10.5"
  },
  "vscode": {
   "interpreter": {
    "hash": "c08148d59e9f93a0c72cbf1be496060b10c0534972c1cba077b3d77192643ff1"
   }
  }
 },
 "nbformat": 4,
 "nbformat_minor": 4
}
