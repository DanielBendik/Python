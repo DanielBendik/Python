{
 "cells": [
  {
   "cell_type": "markdown",
   "id": "41a341a8-ec3c-46af-8d0d-9b9aa7f038b6",
   "metadata": {},
   "source": [
    "<h1> Name and z-ID"
   ]
  },
  {
   "cell_type": "markdown",
   "id": "22b82094-5407-4e0f-9e84-dfb28ba72dd5",
   "metadata": {},
   "source": [
    "Daniel Bendik\n",
    "Z1938845"
   ]
  },
  {
   "cell_type": "markdown",
   "id": "f5b7de63-1a77-49cf-8551-16e55da866a9",
   "metadata": {},
   "source": [
    "<h1> Hello, NIU"
   ]
  },
  {
   "cell_type": "code",
   "execution_count": 66,
   "id": "cb3c57a9-77b5-4bd2-b4dc-bf9d71cf2581",
   "metadata": {},
   "outputs": [
    {
     "name": "stdout",
     "output_type": "stream",
     "text": [
      "Hello,\n",
      "NIU\n"
     ]
    }
   ],
   "source": [
    "print(\"Hello,\\nNIU\")"
   ]
  },
  {
   "cell_type": "markdown",
   "id": "03ed7551-da2d-4d8b-b9d4-ae3d40526a1f",
   "metadata": {},
   "source": [
    "<h1> Hi, name"
   ]
  },
  {
   "cell_type": "code",
   "execution_count": 67,
   "id": "d6cbf35b-e30b-4b97-ae72-d424187b88e5",
   "metadata": {},
   "outputs": [
    {
     "name": "stdout",
     "output_type": "stream",
     "text": [
      "Hi, Daniel\n"
     ]
    }
   ],
   "source": [
    "name = \"Daniel\"\n",
    "print(\"Hi, \" + name)"
   ]
  },
  {
   "cell_type": "markdown",
   "id": "cb346a99-3dbe-49e4-92e7-5ec09c81cbfd",
   "metadata": {},
   "source": [
    "<h1> Calculating Annuities"
   ]
  },
  {
   "cell_type": "code",
   "execution_count": 68,
   "id": "3d0dea07-2ada-41d0-ab08-6d889ecc001e",
   "metadata": {},
   "outputs": [],
   "source": [
    "c = 2000\n",
    "i = 0.15\n",
    "n = 10"
   ]
  },
  {
   "cell_type": "code",
   "execution_count": 69,
   "id": "fe281fae-55a9-45ca-b26e-ff0871a60bfd",
   "metadata": {},
   "outputs": [],
   "source": [
    "def FVordinary(c,i,n):\n",
    "    result = c * (((1+i)**n)-1)/i\n",
    "    return result"
   ]
  },
  {
   "cell_type": "code",
   "execution_count": 70,
   "id": "0cebc889-7258-4f63-8ca9-db791da1af07",
   "metadata": {},
   "outputs": [],
   "source": [
    "def PVordinary(c,i,n):\n",
    "    result = c * ((1-(1+i)**(-n))/i)\n",
    "    return result"
   ]
  },
  {
   "cell_type": "code",
   "execution_count": 71,
   "id": "3a855f24-dac7-4692-b948-3cec64148926",
   "metadata": {},
   "outputs": [],
   "source": [
    "def FVdue(c,i,n):\n",
    "    result = FVordinary(c,i,n) * (1+i)\n",
    "    return result"
   ]
  },
  {
   "cell_type": "code",
   "execution_count": 72,
   "id": "e8266716-86ed-4ab3-868b-6f95fa9cec14",
   "metadata": {},
   "outputs": [],
   "source": [
    "def PVdue(c,i,n):\n",
    "    result = PVordinary(c,i,n) * (1+i)\n",
    "    return result"
   ]
  },
  {
   "cell_type": "code",
   "execution_count": 73,
   "id": "171534c0-43fe-4f8e-92d0-06cdcf74b478",
   "metadata": {},
   "outputs": [
    {
     "name": "stdout",
     "output_type": "stream",
     "text": [
      "40607.436476105424\n"
     ]
    }
   ],
   "source": [
    "fv_ordinary = FVordinary(c,i,n)\n",
    "print(fv_ordinary)"
   ]
  },
  {
   "cell_type": "code",
   "execution_count": 74,
   "id": "46c35dc4-edfb-4304-8d81-b9bb816b22bc",
   "metadata": {},
   "outputs": [
    {
     "name": "stdout",
     "output_type": "stream",
     "text": [
      "10037.537251708456\n"
     ]
    }
   ],
   "source": [
    "pv_ordinary = PVordinary(c,i,n)\n",
    "print(pv_ordinary)"
   ]
  },
  {
   "cell_type": "code",
   "execution_count": 75,
   "id": "b87a8ca0-b5da-41e0-961c-2b057f7417f4",
   "metadata": {},
   "outputs": [
    {
     "name": "stdout",
     "output_type": "stream",
     "text": [
      "46698.551947521235\n"
     ]
    }
   ],
   "source": [
    "fv_due = FVdue(c,i,n)\n",
    "print(fv_due)"
   ]
  },
  {
   "cell_type": "code",
   "execution_count": 76,
   "id": "677dc668-d58d-487e-958e-34d35fc523ce",
   "metadata": {},
   "outputs": [
    {
     "name": "stdout",
     "output_type": "stream",
     "text": [
      "11543.167839464724\n"
     ]
    }
   ],
   "source": [
    "pv_due = PVdue(c,i,n)\n",
    "print(pv_due)"
   ]
  }
 ],
 "metadata": {
  "kernelspec": {
   "display_name": "Python 3.10",
   "language": "python",
   "name": "python3"
  },
  "language_info": {
   "codemirror_mode": {
    "name": "ipython",
    "version": 3
   },
   "file_extension": ".py",
   "mimetype": "text/x-python",
   "name": "python",
   "nbconvert_exporter": "python",
   "pygments_lexer": "ipython3",
   "version": "3.10.5"
  }
 },
 "nbformat": 4,
 "nbformat_minor": 5
}
