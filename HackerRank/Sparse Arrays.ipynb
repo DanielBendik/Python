{
 "cells": [
  {
   "cell_type": "code",
   "execution_count": null,
   "id": "e20d6b71-80ff-466a-985f-87a43ea84058",
   "metadata": {},
   "outputs": [],
   "source": [
    "#!/bin/python3\n",
    "\n",
    "import math\n",
    "import os\n",
    "import random\n",
    "import re\n",
    "import sys\n",
    "\n",
    "#\n",
    "# Complete the 'matchingStrings' function below.\n",
    "#\n",
    "# The function is expected to return an INTEGER_ARRAY.\n",
    "# The function accepts following parameters:\n",
    "#  1. STRING_ARRAY strings\n",
    "#  2. STRING_ARRAY queries\n",
    "#\n",
    "\n",
    "def matchingStrings(strings, queries):\n",
    "    results = []\n",
    "    index = 0\n",
    "    \n",
    "    for _ in queries:\n",
    "        occured = strings.count(queries[index])\n",
    "        results.append(occured)\n",
    "        index += 1\n",
    "    \n",
    "    return results\n",
    "\n",
    "if __name__ == '__main__':\n",
    "    fptr = open(os.environ['OUTPUT_PATH'], 'w')\n",
    "\n",
    "    strings_count = int(input().strip())\n",
    "\n",
    "    strings = []\n",
    "\n",
    "    for _ in range(strings_count):\n",
    "        strings_item = input()\n",
    "        strings.append(strings_item)\n",
    "\n",
    "    queries_count = int(input().strip())\n",
    "\n",
    "    queries = []\n",
    "\n",
    "    for _ in range(queries_count):\n",
    "        queries_item = input()\n",
    "        queries.append(queries_item)\n",
    "\n",
    "    res = matchingStrings(strings, queries)\n",
    "\n",
    "    fptr.write('\\n'.join(map(str, res)))\n",
    "    fptr.write('\\n')\n",
    "\n",
    "    fptr.close()"
   ]
  }
 ],
 "metadata": {
  "kernelspec": {
   "display_name": "Python 3 (ipykernel)",
   "language": "python",
   "name": "python3"
  },
  "language_info": {
   "codemirror_mode": {
    "name": "ipython",
    "version": 3
   },
   "file_extension": ".py",
   "mimetype": "text/x-python",
   "name": "python",
   "nbconvert_exporter": "python",
   "pygments_lexer": "ipython3",
   "version": "3.11.5"
  }
 },
 "nbformat": 4,
 "nbformat_minor": 5
}
