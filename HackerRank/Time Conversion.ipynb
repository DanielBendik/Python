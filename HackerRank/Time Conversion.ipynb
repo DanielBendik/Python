{
 "cells": [
  {
   "cell_type": "code",
   "execution_count": 104,
   "id": "b247b81e-eb38-4b99-8e60-337c97b8357a",
   "metadata": {
    "tags": []
   },
   "outputs": [
    {
     "name": "stdout",
     "output_type": "stream",
     "text": [
      "00:05:45\n"
     ]
    }
   ],
   "source": [
    "#!/bin/python3\n",
    "\n",
    "import math\n",
    "import os\n",
    "import random\n",
    "import re\n",
    "import sys\n",
    "\n",
    "#\n",
    "# Complete the 'timeConversion' function below.\n",
    "#\n",
    "# The function is expected to return a STRING.\n",
    "# The function accepts STRING s as parameter.\n",
    "#\n",
    "\n",
    "def timeConversion(s):\n",
    "    if (s[:2] == \"12\"):\n",
    "        if (s[-2:] == \"PM\"):\n",
    "            return (s[:-2])\n",
    "        else:\n",
    "            hour = \"00\"\n",
    "            return (f'{hour}{s[2:-2]}')\n",
    "    else:\n",
    "        if (s[-2:] == \"PM\"):\n",
    "            hour = str(int(s[:2]) + 12)\n",
    "            return (f'{hour}{s[2:-2]}')\n",
    "        else:\n",
    "            return (s[:-2])\n",
    "\n",
    "if __name__ == '__main__':\n",
    "    fptr = open(os.environ['OUTPUT_PATH'], 'w')\n",
    "\n",
    "    s = input()\n",
    "\n",
    "    result = timeConversion(s)\n",
    "\n",
    "    fptr.write(result + '\\n')\n",
    "\n",
    "    fptr.close()\n"
   ]
  }
 ],
 "metadata": {
  "kernelspec": {
   "display_name": "Python 3 (ipykernel)",
   "language": "python",
   "name": "python3"
  },
  "language_info": {
   "codemirror_mode": {
    "name": "ipython",
    "version": 3
   },
   "file_extension": ".py",
   "mimetype": "text/x-python",
   "name": "python",
   "nbconvert_exporter": "python",
   "pygments_lexer": "ipython3",
   "version": "3.11.5"
  }
 },
 "nbformat": 4,
 "nbformat_minor": 5
}
