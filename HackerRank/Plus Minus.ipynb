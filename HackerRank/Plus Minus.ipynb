{
 "cells": [
  {
   "cell_type": "code",
   "execution_count": null,
   "id": "848a111d-d449-4399-8ffc-b623d7b60dbc",
   "metadata": {},
   "outputs": [],
   "source": [
    "#!/bin/python3\n",
    "\n",
    "import math\n",
    "import os\n",
    "import random\n",
    "import re\n",
    "import sys\n",
    "\n",
    "#\n",
    "# Complete the 'plusMinus' function below.\n",
    "#\n",
    "# The function accepts INTEGER_ARRAY arr as parameter.\n",
    "#\n",
    "\n",
    "def plusMinus(arr):\n",
    "    \n",
    "    positive = 0\n",
    "    zeroes = 0\n",
    "    negative = 0\n",
    "    \n",
    "    for number in arr:\n",
    "        if number > 0:\n",
    "            positive += 1\n",
    "        elif number < 0:\n",
    "            negative += 1\n",
    "        else:\n",
    "            zeroes += 1\n",
    "            \n",
    "    total = len(arr)\n",
    "    \n",
    "    print(round((positive / total), 6))\n",
    "    print(round((negative / total), 6))\n",
    "    print(round((zeroes / total), 6))\n",
    "    \n",
    "            \n",
    "\n",
    "if __name__ == '__main__':\n",
    "    n = int(input().strip())\n",
    "\n",
    "    arr = list(map(int, input().rstrip().split()))\n",
    "\n",
    "    plusMinus(arr)\n"
   ]
  }
 ],
 "metadata": {
  "kernelspec": {
   "display_name": "Python 3 (ipykernel)",
   "language": "python",
   "name": "python3"
  },
  "language_info": {
   "codemirror_mode": {
    "name": "ipython",
    "version": 3
   },
   "file_extension": ".py",
   "mimetype": "text/x-python",
   "name": "python",
   "nbconvert_exporter": "python",
   "pygments_lexer": "ipython3",
   "version": "3.11.5"
  }
 },
 "nbformat": 4,
 "nbformat_minor": 5
}
